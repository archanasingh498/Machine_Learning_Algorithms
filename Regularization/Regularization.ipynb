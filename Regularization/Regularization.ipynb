{
 "cells": [
  {
   "cell_type": "code",
   "execution_count": 1,
   "metadata": {
    "scrolled": false
   },
   "outputs": [],
   "source": [
    "import pandas as pd\n",
    "import matplotlib.pyplot as plt \n",
    "import numpy as np\n",
    "from sklearn.base import BaseEstimator, TransformerMixin\n",
    "from sklearn.linear_model import LinearRegression\n",
    "from sklearn.pipeline import make_pipeline\n",
    "from sklearn.linear_model import Ridge, Lasso\n",
    "from scipy.stats import uniform as sp_rand\n",
    "from sklearn.model_selection import RandomizedSearchCV\n",
    "from sklearn.model_selection import cross_val_score\n",
    "# these two files are large, and it may take a while to read...\n",
    "counts = pd.read_csv('data/FremontBridge.csv', index_col='Date', parse_dates=True)\n",
    "weather = pd.read_csv('data/BicycleWeather.csv', index_col='DATE', parse_dates=True)"
   ]
  },
  {
   "cell_type": "code",
   "execution_count": 2,
   "metadata": {},
   "outputs": [],
   "source": [
    "import warnings\n",
    "warnings.filterwarnings('ignore')"
   ]
  },
  {
   "cell_type": "code",
   "execution_count": 3,
   "metadata": {},
   "outputs": [
    {
     "name": "stdout",
     "output_type": "stream",
     "text": [
      "61296\n",
      "1340\n",
      "                     Fremont Bridge East Sidewalk  \\\n",
      "Date                                                \n",
      "2019-01-01 00:00:00                           0.0   \n",
      "2019-01-01 01:00:00                           2.0   \n",
      "2019-01-01 02:00:00                           1.0   \n",
      "2019-01-01 03:00:00                           1.0   \n",
      "2019-01-01 04:00:00                           2.0   \n",
      "\n",
      "                     Fremont Bridge West Sidewalk  \n",
      "Date                                               \n",
      "2019-01-01 00:00:00                           9.0  \n",
      "2019-01-01 01:00:00                          22.0  \n",
      "2019-01-01 02:00:00                          11.0  \n",
      "2019-01-01 03:00:00                           2.0  \n",
      "2019-01-01 04:00:00                           1.0  \n",
      "                      STATION                                STATION_NAME  \\\n",
      "DATE                                                                        \n",
      "2012-01-01  GHCND:USW00024233  SEATTLE TACOMA INTERNATIONAL AIRPORT WA US   \n",
      "2012-01-02  GHCND:USW00024233  SEATTLE TACOMA INTERNATIONAL AIRPORT WA US   \n",
      "2012-01-03  GHCND:USW00024233  SEATTLE TACOMA INTERNATIONAL AIRPORT WA US   \n",
      "2012-01-04  GHCND:USW00024233  SEATTLE TACOMA INTERNATIONAL AIRPORT WA US   \n",
      "2012-01-05  GHCND:USW00024233  SEATTLE TACOMA INTERNATIONAL AIRPORT WA US   \n",
      "\n",
      "            PRCP  SNWD  SNOW  TMAX  TMIN  AWND  WDF2  WDF5  ...  WT17  WT05  \\\n",
      "DATE                                                        ...               \n",
      "2012-01-01     0     0     0   128    50    47   100    90  ... -9999 -9999   \n",
      "2012-01-02   109     0     0   106    28    45   180   200  ... -9999 -9999   \n",
      "2012-01-03     8     0     0   117    72    23   180   170  ... -9999 -9999   \n",
      "2012-01-04   203     0     0   122    56    47   180   190  ... -9999 -9999   \n",
      "2012-01-05    13     0     0    89    28    61   200   220  ... -9999 -9999   \n",
      "\n",
      "            WT02  WT22  WT04  WT13  WT16  WT08  WT18  WT03  \n",
      "DATE                                                        \n",
      "2012-01-01 -9999 -9999 -9999 -9999 -9999 -9999 -9999 -9999  \n",
      "2012-01-02 -9999 -9999 -9999     1     1 -9999 -9999 -9999  \n",
      "2012-01-03 -9999 -9999 -9999 -9999     1 -9999 -9999 -9999  \n",
      "2012-01-04 -9999 -9999 -9999     1     1 -9999 -9999 -9999  \n",
      "2012-01-05 -9999 -9999 -9999 -9999     1 -9999 -9999 -9999  \n",
      "\n",
      "[5 rows x 25 columns]\n"
     ]
    }
   ],
   "source": [
    "print(len(counts))\n",
    "print(len(weather))\n",
    "print(counts[:5])\n",
    "print(weather[:5])"
   ]
  },
  {
   "cell_type": "code",
   "execution_count": 4,
   "metadata": {},
   "outputs": [
    {
     "name": "stdout",
     "output_type": "stream",
     "text": [
      "             Total\n",
      "Date              \n",
      "2012-10-03  3521.0\n",
      "2012-10-04  3475.0\n",
      "2012-10-05  3148.0\n",
      "2012-10-06  2006.0\n",
      "2012-10-07  2142.0\n"
     ]
    }
   ],
   "source": [
    "daily = counts.resample('d').sum()\n",
    "daily['Total'] = daily.sum(axis=1)\n",
    "daily = daily[['Total']] # remove other columns\n",
    "print(daily[:5])"
   ]
  },
  {
   "cell_type": "code",
   "execution_count": 5,
   "metadata": {},
   "outputs": [
    {
     "name": "stdout",
     "output_type": "stream",
     "text": [
      "             Total  Mon  Tue  Wed  Thu  Fri  Sat  Sun\n",
      "Date                                                 \n",
      "2012-10-03  3521.0  0.0  0.0  1.0  0.0  0.0  0.0  0.0\n",
      "2012-10-04  3475.0  0.0  0.0  0.0  1.0  0.0  0.0  0.0\n",
      "2012-10-05  3148.0  0.0  0.0  0.0  0.0  1.0  0.0  0.0\n",
      "2012-10-06  2006.0  0.0  0.0  0.0  0.0  0.0  1.0  0.0\n",
      "2012-10-07  2142.0  0.0  0.0  0.0  0.0  0.0  0.0  1.0\n"
     ]
    }
   ],
   "source": [
    "# add an indicator about Mon - Sun\n",
    "days = ['Mon', 'Tue', 'Wed', 'Thu', 'Fri', 'Sat', 'Sun']\n",
    "for i in range(7):\n",
    "    daily[days[i]] = (daily.index.dayofweek == i).astype(float)\n",
    "    \n",
    "print(daily[:5])"
   ]
  },
  {
   "cell_type": "code",
   "execution_count": 6,
   "metadata": {},
   "outputs": [
    {
     "name": "stdout",
     "output_type": "stream",
     "text": [
      "             Total  Mon  Tue  Wed  Thu  Fri  Sat  Sun  holiday\n",
      "Date                                                          \n",
      "2012-10-03  3521.0  0.0  0.0  1.0  0.0  0.0  0.0  0.0      0.0\n",
      "2012-10-04  3475.0  0.0  0.0  0.0  1.0  0.0  0.0  0.0      0.0\n",
      "2012-10-05  3148.0  0.0  0.0  0.0  0.0  1.0  0.0  0.0      0.0\n",
      "2012-10-06  2006.0  0.0  0.0  0.0  0.0  0.0  1.0  0.0      0.0\n",
      "2012-10-07  2142.0  0.0  0.0  0.0  0.0  0.0  0.0  1.0      0.0\n"
     ]
    }
   ],
   "source": [
    "# add an indicator about holiday\n",
    "from pandas.tseries.holiday import USFederalHolidayCalendar\n",
    "cal = USFederalHolidayCalendar()\n",
    "holidays = cal.holidays('2012', '2016')\n",
    "daily = daily.join(pd.Series(1, index=holidays, name='holiday'))\n",
    "# replace missing data with 0\n",
    "daily['holiday'].fillna(0, inplace=True)\n",
    "\n",
    "print(daily[:5])"
   ]
  },
  {
   "cell_type": "code",
   "execution_count": 11,
   "metadata": {},
   "outputs": [
    {
     "name": "stdout",
     "output_type": "stream",
     "text": [
      "             Total  Mon  Tue  Wed  Thu  Fri  Sat  Sun  holiday  daylight_hrs  \\\n",
      "Date                                                                           \n",
      "2012-10-03  3521.0  0.0  0.0  1.0  0.0  0.0  0.0  0.0      0.0     11.277359   \n",
      "2012-10-04  3475.0  0.0  0.0  0.0  1.0  0.0  0.0  0.0      0.0     11.219142   \n",
      "2012-10-05  3148.0  0.0  0.0  0.0  0.0  1.0  0.0  0.0      0.0     11.161038   \n",
      "2012-10-06  2006.0  0.0  0.0  0.0  0.0  0.0  1.0  0.0      0.0     11.103056   \n",
      "2012-10-07  2142.0  0.0  0.0  0.0  0.0  0.0  0.0  1.0      0.0     11.045208   \n",
      "\n",
      "            PRCP  Temp (C)  dry day    annual  \n",
      "Date                                           \n",
      "2012-10-03   0.0     13.35      1.0  0.000000  \n",
      "2012-10-04   0.0     13.60      1.0  0.002740  \n",
      "2012-10-05   0.0     15.30      1.0  0.005479  \n",
      "2012-10-06   0.0     15.85      1.0  0.008219  \n",
      "2012-10-07   0.0     15.85      1.0  0.010959  \n"
     ]
    },
    {
     "data": {
      "image/png": "[encoded data removed]",
      "text/plain": [
       "<Figure size 432x288 with 1 Axes>"
      ]
     },
     "metadata": {
      "needs_background": "light"
     },
     "output_type": "display_data"
    }
   ],
   "source": [
    "# This function seems crazy. The main goal is to calculate hours of daylight\n",
    "# https://www.esrl.noaa.gov/gmd/grad/solcalc/sunrise.html here is an example...\n",
    "def hours_of_daylight(date, axis=23.44, latitude=47.61):\n",
    "    \"\"\"Compute the hours of daylight for the given date\"\"\"\n",
    "    days = (date - pd.datetime(2000, 12, 21)).days\n",
    "    m = (1. - np.tan(np.radians(latitude))\n",
    "         * np.tan(np.radians(axis) * np.cos(days * 2 * np.pi / 365.25)))\n",
    "    return 24. * np.degrees(np.arccos(1 - np.clip(m, 0, 2))) / 180.\n",
    "\n",
    "daily['daylight_hrs'] = list(map(hours_of_daylight, daily.index))\n",
    "daily[['daylight_hrs']].plot()\n",
    "plt.ylim(8, 17)\n",
    "\n",
    "print(daily[:5])"
   ]
  },
  {
   "cell_type": "code",
   "execution_count": 12,
   "metadata": {},
   "outputs": [
    {
     "name": "stdout",
     "output_type": "stream",
     "text": [
      "             Total  Mon  Tue  Wed  Thu  Fri  Sat  Sun  holiday  daylight_hrs  \\\n",
      "Date                                                                           \n",
      "2012-10-03  3521.0  0.0  0.0  1.0  0.0  0.0  0.0  0.0      0.0     11.277359   \n",
      "2012-10-04  3475.0  0.0  0.0  0.0  1.0  0.0  0.0  0.0      0.0     11.219142   \n",
      "2012-10-05  3148.0  0.0  0.0  0.0  0.0  1.0  0.0  0.0      0.0     11.161038   \n",
      "2012-10-06  2006.0  0.0  0.0  0.0  0.0  0.0  1.0  0.0      0.0     11.103056   \n",
      "2012-10-07  2142.0  0.0  0.0  0.0  0.0  0.0  0.0  1.0      0.0     11.045208   \n",
      "...            ...  ...  ...  ...  ...  ...  ...  ...      ...           ...   \n",
      "2015-08-28  2653.0  0.0  0.0  0.0  0.0  1.0  0.0  0.0      0.0     13.418591   \n",
      "2015-08-29   699.0  0.0  0.0  0.0  0.0  0.0  1.0  0.0      0.0     13.362212   \n",
      "2015-08-30  1213.0  0.0  0.0  0.0  0.0  0.0  0.0  1.0      0.0     13.305611   \n",
      "2015-08-31  2823.0  1.0  0.0  0.0  0.0  0.0  0.0  0.0      0.0     13.248802   \n",
      "2015-09-01  2876.0  0.0  1.0  0.0  0.0  0.0  0.0  0.0      0.0     13.191795   \n",
      "\n",
      "            PRCP_left  Temp (C)_left  dry day_left    annual  PRCP_right  \\\n",
      "Date                                                                       \n",
      "2012-10-03   0.000000          13.35           1.0  0.000000    0.000000   \n",
      "2012-10-04   0.000000          13.60           1.0  0.002740    0.000000   \n",
      "2012-10-05   0.000000          15.30           1.0  0.005479    0.000000   \n",
      "2012-10-06   0.000000          15.85           1.0  0.008219    0.000000   \n",
      "2012-10-07   0.000000          15.85           1.0  0.010959    0.000000   \n",
      "...               ...            ...           ...       ...         ...   \n",
      "2015-08-28   0.019685          19.45           0.0  2.901370    0.000078   \n",
      "2015-08-29   1.279528          17.75           0.0  2.904110    0.005038   \n",
      "2015-08-30   0.401575          16.40           0.0  2.906849    0.001581   \n",
      "2015-08-31   0.000000          17.50           1.0  2.909589    0.000000   \n",
      "2015-09-01   0.228346          16.65           0.0  2.912329    0.000899   \n",
      "\n",
      "            Temp (C)_right  dry day_right  \n",
      "Date                                       \n",
      "2012-10-03           1.335              1  \n",
      "2012-10-04           1.360              1  \n",
      "2012-10-05           1.530              1  \n",
      "2012-10-06           1.585              1  \n",
      "2012-10-07           1.585              1  \n",
      "...                    ...            ...  \n",
      "2015-08-28           1.945              0  \n",
      "2015-08-29           1.775              0  \n",
      "2015-08-30           1.640              0  \n",
      "2015-08-31           1.750              1  \n",
      "2015-09-01           1.665              0  \n",
      "\n",
      "[1064 rows x 17 columns]\n"
     ]
    },
    {
     "data": {
      "text/html": [
       "<div>\n",
       "<style scoped>\n",
       "    .dataframe tbody tr th:only-of-type {\n",
       "        vertical-align: middle;\n",
       "    }\n",
       "\n",
       "    .dataframe tbody tr th {\n",
       "        vertical-align: top;\n",
       "    }\n",
       "\n",
       "    .dataframe thead th {\n",
       "        text-align: right;\n",
       "    }\n",
       "</style>\n",
       "<table border=\"1\" class=\"dataframe\">\n",
       "  <thead>\n",
       "    <tr style=\"text-align: right;\">\n",
       "      <th></th>\n",
       "      <th>Total</th>\n",
       "      <th>Mon</th>\n",
       "      <th>Tue</th>\n",
       "      <th>Wed</th>\n",
       "      <th>Thu</th>\n",
       "      <th>Fri</th>\n",
       "      <th>Sat</th>\n",
       "      <th>Sun</th>\n",
       "      <th>holiday</th>\n",
       "      <th>daylight_hrs</th>\n",
       "      <th>PRCP_left</th>\n",
       "      <th>Temp (C)_left</th>\n",
       "      <th>dry day_left</th>\n",
       "      <th>annual</th>\n",
       "      <th>PRCP_right</th>\n",
       "      <th>Temp (C)_right</th>\n",
       "      <th>dry day_right</th>\n",
       "    </tr>\n",
       "    <tr>\n",
       "      <th>Date</th>\n",
       "      <th></th>\n",
       "      <th></th>\n",
       "      <th></th>\n",
       "      <th></th>\n",
       "      <th></th>\n",
       "      <th></th>\n",
       "      <th></th>\n",
       "      <th></th>\n",
       "      <th></th>\n",
       "      <th></th>\n",
       "      <th></th>\n",
       "      <th></th>\n",
       "      <th></th>\n",
       "      <th></th>\n",
       "      <th></th>\n",
       "      <th></th>\n",
       "      <th></th>\n",
       "    </tr>\n",
       "  </thead>\n",
       "  <tbody>\n",
       "    <tr>\n",
       "      <th>2012-10-03</th>\n",
       "      <td>3521.0</td>\n",
       "      <td>0.0</td>\n",
       "      <td>0.0</td>\n",
       "      <td>1.0</td>\n",
       "      <td>0.0</td>\n",
       "      <td>0.0</td>\n",
       "      <td>0.0</td>\n",
       "      <td>0.0</td>\n",
       "      <td>0.0</td>\n",
       "      <td>11.277359</td>\n",
       "      <td>0.0</td>\n",
       "      <td>13.35</td>\n",
       "      <td>1.0</td>\n",
       "      <td>0.000000</td>\n",
       "      <td>0.0</td>\n",
       "      <td>1.335</td>\n",
       "      <td>1</td>\n",
       "    </tr>\n",
       "    <tr>\n",
       "      <th>2012-10-04</th>\n",
       "      <td>3475.0</td>\n",
       "      <td>0.0</td>\n",
       "      <td>0.0</td>\n",
       "      <td>0.0</td>\n",
       "      <td>1.0</td>\n",
       "      <td>0.0</td>\n",
       "      <td>0.0</td>\n",
       "      <td>0.0</td>\n",
       "      <td>0.0</td>\n",
       "      <td>11.219142</td>\n",
       "      <td>0.0</td>\n",
       "      <td>13.60</td>\n",
       "      <td>1.0</td>\n",
       "      <td>0.002740</td>\n",
       "      <td>0.0</td>\n",
       "      <td>1.360</td>\n",
       "      <td>1</td>\n",
       "    </tr>\n",
       "    <tr>\n",
       "      <th>2012-10-05</th>\n",
       "      <td>3148.0</td>\n",
       "      <td>0.0</td>\n",
       "      <td>0.0</td>\n",
       "      <td>0.0</td>\n",
       "      <td>0.0</td>\n",
       "      <td>1.0</td>\n",
       "      <td>0.0</td>\n",
       "      <td>0.0</td>\n",
       "      <td>0.0</td>\n",
       "      <td>11.161038</td>\n",
       "      <td>0.0</td>\n",
       "      <td>15.30</td>\n",
       "      <td>1.0</td>\n",
       "      <td>0.005479</td>\n",
       "      <td>0.0</td>\n",
       "      <td>1.530</td>\n",
       "      <td>1</td>\n",
       "    </tr>\n",
       "    <tr>\n",
       "      <th>2012-10-06</th>\n",
       "      <td>2006.0</td>\n",
       "      <td>0.0</td>\n",
       "      <td>0.0</td>\n",
       "      <td>0.0</td>\n",
       "      <td>0.0</td>\n",
       "      <td>0.0</td>\n",
       "      <td>1.0</td>\n",
       "      <td>0.0</td>\n",
       "      <td>0.0</td>\n",
       "      <td>11.103056</td>\n",
       "      <td>0.0</td>\n",
       "      <td>15.85</td>\n",
       "      <td>1.0</td>\n",
       "      <td>0.008219</td>\n",
       "      <td>0.0</td>\n",
       "      <td>1.585</td>\n",
       "      <td>1</td>\n",
       "    </tr>\n",
       "    <tr>\n",
       "      <th>2012-10-07</th>\n",
       "      <td>2142.0</td>\n",
       "      <td>0.0</td>\n",
       "      <td>0.0</td>\n",
       "      <td>0.0</td>\n",
       "      <td>0.0</td>\n",
       "      <td>0.0</td>\n",
       "      <td>0.0</td>\n",
       "      <td>1.0</td>\n",
       "      <td>0.0</td>\n",
       "      <td>11.045208</td>\n",
       "      <td>0.0</td>\n",
       "      <td>15.85</td>\n",
       "      <td>1.0</td>\n",
       "      <td>0.010959</td>\n",
       "      <td>0.0</td>\n",
       "      <td>1.585</td>\n",
       "      <td>1</td>\n",
       "    </tr>\n",
       "  </tbody>\n",
       "</table>\n",
       "</div>"
      ],
      "text/plain": [
       "             Total  Mon  Tue  Wed  Thu  Fri  Sat  Sun  holiday  daylight_hrs  \\\n",
       "Date                                                                           \n",
       "2012-10-03  3521.0  0.0  0.0  1.0  0.0  0.0  0.0  0.0      0.0     11.277359   \n",
       "2012-10-04  3475.0  0.0  0.0  0.0  1.0  0.0  0.0  0.0      0.0     11.219142   \n",
       "2012-10-05  3148.0  0.0  0.0  0.0  0.0  1.0  0.0  0.0      0.0     11.161038   \n",
       "2012-10-06  2006.0  0.0  0.0  0.0  0.0  0.0  1.0  0.0      0.0     11.103056   \n",
       "2012-10-07  2142.0  0.0  0.0  0.0  0.0  0.0  0.0  1.0      0.0     11.045208   \n",
       "\n",
       "            PRCP_left  Temp (C)_left  dry day_left    annual  PRCP_right  \\\n",
       "Date                                                                       \n",
       "2012-10-03        0.0          13.35           1.0  0.000000         0.0   \n",
       "2012-10-04        0.0          13.60           1.0  0.002740         0.0   \n",
       "2012-10-05        0.0          15.30           1.0  0.005479         0.0   \n",
       "2012-10-06        0.0          15.85           1.0  0.008219         0.0   \n",
       "2012-10-07        0.0          15.85           1.0  0.010959         0.0   \n",
       "\n",
       "            Temp (C)_right  dry day_right  \n",
       "Date                                       \n",
       "2012-10-03           1.335              1  \n",
       "2012-10-04           1.360              1  \n",
       "2012-10-05           1.530              1  \n",
       "2012-10-06           1.585              1  \n",
       "2012-10-07           1.585              1  "
      ]
     },
     "execution_count": 12,
     "metadata": {},
     "output_type": "execute_result"
    }
   ],
   "source": [
    "# temperatures are in 1/10 deg C; convert to C\n",
    "weather['TMIN'] /= 10\n",
    "weather['TMAX'] /= 10\n",
    "weather['Temp (C)'] = 0.5 * (weather['TMIN'] + weather['TMAX'])\n",
    "\n",
    "# precip is in 1/10 mm; convert to inches\n",
    "weather['PRCP'] /= 254\n",
    "weather['dry day'] = (weather['PRCP'] == 0).astype(int)\n",
    "\n",
    "#daily = daily.join(weather[['PRCP', 'Temp (C)', 'dry day']])\n",
    "# how='left' means calling frame’s index \n",
    "daily = daily.join(weather[['PRCP', 'Temp (C)', 'dry day']], how='left', lsuffix='_left', rsuffix='_right')\n",
    "print(daily)\n",
    "\n",
    "daily[:5]"
   ]
  },
  {
   "cell_type": "code",
   "execution_count": 13,
   "metadata": {},
   "outputs": [
    {
     "name": "stdout",
     "output_type": "stream",
     "text": [
      "Date\n",
      "2012-10-03    0.000000\n",
      "2012-10-04    0.002740\n",
      "2012-10-05    0.005479\n",
      "2012-10-06    0.008219\n",
      "2012-10-07    0.010959\n",
      "                ...   \n",
      "2015-08-28    2.901370\n",
      "2015-08-29    2.904110\n",
      "2015-08-30    2.906849\n",
      "2015-08-31    2.909589\n",
      "2015-09-01    2.912329\n",
      "Freq: D, Name: annual, Length: 1064, dtype: float64\n"
     ]
    }
   ],
   "source": [
    "# number of years passed\n",
    "daily['annual'] = (daily.index - daily.index[0]).days / 365.\n",
    "print(daily['annual'])"
   ]
  },
  {
   "cell_type": "code",
   "execution_count": 14,
   "metadata": {
    "scrolled": true
   },
   "outputs": [
    {
     "name": "stdout",
     "output_type": "stream",
     "text": [
      "            Mon  Tue  Wed  Thu  Fri  Sat  Sun  holiday  daylight_hrs  \\\n",
      "Date                                                                   \n",
      "2012-10-03  0.0  0.0  1.0  0.0  0.0  0.0  0.0      0.0     11.277359   \n",
      "2012-10-04  0.0  0.0  0.0  1.0  0.0  0.0  0.0      0.0     11.219142   \n",
      "2012-10-05  0.0  0.0  0.0  0.0  1.0  0.0  0.0      0.0     11.161038   \n",
      "2012-10-06  0.0  0.0  0.0  0.0  0.0  1.0  0.0      0.0     11.103056   \n",
      "2012-10-07  0.0  0.0  0.0  0.0  0.0  0.0  1.0      0.0     11.045208   \n",
      "...         ...  ...  ...  ...  ...  ...  ...      ...           ...   \n",
      "2015-08-28  0.0  0.0  0.0  0.0  1.0  0.0  0.0      0.0     13.418591   \n",
      "2015-08-29  0.0  0.0  0.0  0.0  0.0  1.0  0.0      0.0     13.362212   \n",
      "2015-08-30  0.0  0.0  0.0  0.0  0.0  0.0  1.0      0.0     13.305611   \n",
      "2015-08-31  1.0  0.0  0.0  0.0  0.0  0.0  0.0      0.0     13.248802   \n",
      "2015-09-01  0.0  1.0  0.0  0.0  0.0  0.0  0.0      0.0     13.191795   \n",
      "\n",
      "            PRCP_right  dry day_right  Temp (C)_right    annual  \n",
      "Date                                                             \n",
      "2012-10-03    0.000000              1           1.335  0.000000  \n",
      "2012-10-04    0.000000              1           1.360  0.002740  \n",
      "2012-10-05    0.000000              1           1.530  0.005479  \n",
      "2012-10-06    0.000000              1           1.585  0.008219  \n",
      "2012-10-07    0.000000              1           1.585  0.010959  \n",
      "...                ...            ...             ...       ...  \n",
      "2015-08-28    0.000078              0           1.945  2.901370  \n",
      "2015-08-29    0.005038              0           1.775  2.904110  \n",
      "2015-08-30    0.001581              0           1.640  2.906849  \n",
      "2015-08-31    0.000000              1           1.750  2.909589  \n",
      "2015-09-01    0.000899              0           1.665  2.912329  \n",
      "\n",
      "[1064 rows x 13 columns]\n",
      "***************\n",
      "Date\n",
      "2012-10-03    3521.0\n",
      "2012-10-04    3475.0\n",
      "2012-10-05    3148.0\n",
      "2012-10-06    2006.0\n",
      "2012-10-07    2142.0\n",
      "               ...  \n",
      "2015-08-28    2653.0\n",
      "2015-08-29     699.0\n",
      "2015-08-30    1213.0\n",
      "2015-08-31    2823.0\n",
      "2015-09-01    2876.0\n",
      "Freq: D, Name: Total, Length: 1064, dtype: float64\n"
     ]
    }
   ],
   "source": [
    "# Drop any rows with null values\n",
    "\n",
    "daily.dropna(axis=0, how='any', inplace=True)\n",
    "\n",
    "column_names = ['Mon', 'Tue', 'Wed', 'Thu', 'Fri', 'Sat', 'Sun', 'holiday',\n",
    "                'daylight_hrs', 'PRCP_right', 'dry day_right', 'Temp (C)_right', 'annual']\n",
    "x1 = daily[column_names]\n",
    "x = daily['daylight_hrs']\n",
    "y = daily['Total']\n",
    "print(x1)\n",
    "print('***************')\n",
    "print(y)"
   ]
  },
  {
   "cell_type": "code",
   "execution_count": 15,
   "metadata": {
    "scrolled": true
   },
   "outputs": [
    {
     "name": "stdout",
     "output_type": "stream",
     "text": [
      "[0.76236871 0.74794215 0.77221239 0.84538276 0.7355564  0.76066698\n",
      " 0.82227323 0.74830747 0.7751928  0.72185004]\n",
      "0.7691752923789923\n"
     ]
    },
    {
     "data": {
      "image/png": "[encoded data removed]",
      "text/plain": [
       "<Figure size 432x288 with 1 Axes>"
      ]
     },
     "metadata": {
      "needs_background": "light"
     },
     "output_type": "display_data"
    }
   ],
   "source": [
    "model = LinearRegression(fit_intercept=False)\n",
    "model.fit(x1, y)\n",
    "daily['predicted'] = model.predict(x1)\n",
    "\n",
    "daily[['Total', 'predicted']].plot(alpha=0.5);\n",
    "\n",
    "from sklearn.model_selection import cross_val_score\n",
    "cur_score = cross_val_score(model, x1, y, cv=10)\n",
    "print(cur_score)\n",
    "print(cur_score.mean())"
   ]
  },
  {
   "cell_type": "code",
   "execution_count": null,
   "metadata": {},
   "outputs": [],
   "source": []
  },
  {
   "cell_type": "code",
   "execution_count": 16,
   "metadata": {
    "scrolled": true
   },
   "outputs": [
    {
     "name": "stdout",
     "output_type": "stream",
     "text": [
      "Lasso cross validation scores:\n",
      "[0.71063985 0.73735637 0.76143884 0.80376921 0.70845719 0.75837987\n",
      " 0.80245367 0.69930381 0.76733938 0.71127315]\n",
      "Alpha Results from RandomSearchCV \n",
      "0.0008437515953970687\n"
     ]
    }
   ],
   "source": [
    "model2 = Lasso(fit_intercept=False)\n",
    "parameters = {'alpha': sp_rand()}\n",
    "randomSearch1 = RandomizedSearchCV(estimator=model2, param_distributions=parameters, n_iter=100,cv=10)\n",
    "randomSearch1.fit(x1, y)\n",
    "lasso_cur_score = cross_val_score(model2, x1, y, cv=10)\n",
    "print(\"Lasso cross validation scores:\")\n",
    "print(lasso_cur_score)\n",
    "print(\"Alpha Results from RandomSearchCV \" )\n",
    "print(randomSearch1.best_estimator_.alpha)"
   ]
  },
  {
   "cell_type": "code",
   "execution_count": null,
   "metadata": {},
   "outputs": [],
   "source": []
  },
  {
   "cell_type": "code",
   "execution_count": 19,
   "metadata": {},
   "outputs": [
    {
     "name": "stdout",
     "output_type": "stream",
     "text": [
      "Ridge cross validation scores:\n",
      "[0.7064912  0.73814414 0.76369085 0.80533217 0.70574386 0.75336846\n",
      " 0.80565438 0.70223634 0.76642817 0.72006282]\n",
      "Alpha Results from RandomSearchCV \n",
      "0.015903806814167143\n"
     ]
    }
   ],
   "source": [
    "model3 = Ridge(fit_intercept=False)\n",
    "parameters = {'alpha': sp_rand()}\n",
    "randomSearch2= RandomizedSearchCV(estimator=model3,param_distributions=parameters, n_iter=100,cv=10)\n",
    "randomSearch2.fit(x1, y)\n",
    "ridge_cur_score = cross_val_score(model3, x1, y, cv=10)\n",
    "print(\"Ridge cross validation scores:\")\n",
    "print(ridge_cur_score)\n",
    "print(\"Alpha Results from RandomSearchCV \" )\n",
    "print(randomSearch2.best_estimator_.alpha)"
   ]
  },
  {
   "cell_type": "code",
   "execution_count": null,
   "metadata": {},
   "outputs": [],
   "source": []
  }
 ],
 "metadata": {
  "kernelspec": {
   "display_name": "Python 3",
   "language": "python",
   "name": "python3"
  },
  "language_info": {
   "codemirror_mode": {
    "name": "ipython",
    "version": 3
   },
   "file_extension": ".py",
   "mimetype": "text/x-python",
   "name": "python",
   "nbconvert_exporter": "python",
   "pygments_lexer": "ipython3",
   "version": "3.8.5"
  }
 },
 "nbformat": 4,
 "nbformat_minor": 4
}
