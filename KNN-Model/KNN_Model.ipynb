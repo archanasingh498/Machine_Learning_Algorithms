{
 "cells": [
  {
   "cell_type": "code",
   "execution_count": 20,
   "metadata": {},
   "outputs": [
    {
     "name": "stdout",
     "output_type": "stream",
     "text": [
      "1 K:  0.956\n",
      "2 K:  0.948\n",
      "3 K:  0.972\n",
      "4 K:  0.964\n",
      "5 K:  0.948\n",
      "6 K:  0.968\n",
      "7 K:  0.956\n",
      "8 K:  0.972\n",
      "9 K:  0.980\n",
      "10 K:  0.960\n",
      "11 K:  0.968\n",
      "12 K:  0.968\n",
      "13 K:  0.948\n",
      "14 K:  0.972\n",
      "15 K:  0.956\n",
      "16 K:  0.964\n",
      "17 K:  0.968\n",
      "18 K:  0.972\n",
      "19 K:  0.932\n",
      "20 K:  0.956\n"
     ]
    },
    {
     "data": {
      "image/png": "[encoded data removed]",
      "text/plain": [
       "<Figure size 432x288 with 1 Axes>"
      ]
     },
     "metadata": {
      "needs_background": "light"
     },
     "output_type": "display_data"
    }
   ],
   "source": [
    "import csv\n",
    "from sklearn.neighbors import KNeighborsClassifier\n",
    "from sklearn import metrics\n",
    "import matplotlib.pyplot as plt\n",
    "\n",
    "def openData():\n",
    "    X = []\n",
    "    y = []\n",
    "    z= 0\n",
    "    with open('iris.data', 'r') as csvfile:\n",
    "        lines = csv.reader(csvfile)\n",
    "        for row in lines:\n",
    "            if z <=149:\n",
    "                X.append(row[:4])\n",
    "                y.append(row[4])\n",
    "                z+=1\n",
    "    return X,y\n",
    "\n",
    "def split(X,y):\n",
    "    from sklearn.model_selection import train_test_split\n",
    "    return train_test_split(X,y,test_size=0.33)\n",
    "\n",
    "def kNN(X_train,X_test,y_train,y_test,k):\n",
    "    from warnings import simplefilter\n",
    "    # ignore all future warnings\n",
    "    simplefilter(action='ignore', category=FutureWarning)\n",
    "    score = {}\n",
    "    scoreList = []\n",
    "    neigh = KNeighborsClassifier(n_neighbors=k)\n",
    "    neigh.fit(X_train,y_train)\n",
    "    yPred = neigh.predict(X_test)\n",
    "    score[k] = metrics.accuracy_score(y_test,yPred)\n",
    "    scoreList.append(metrics.accuracy_score(y_test,yPred))\n",
    "    return scoreList\n",
    "\n",
    "def main():\n",
    "    finalList = [] \n",
    "    X,y = openData()\n",
    "    for k in range(1,21):\n",
    "        tempList = []\n",
    "        #Repeating step 1-5 for each K\n",
    "        for k_value in range(5):\n",
    "            X_train,X_test,y_train,y_test = split(X,y)\n",
    "            tempList.append(kNN(X_train,X_test,y_train,y_test,k))\n",
    "        #Computing avg of K\n",
    "        avg_for_k = 0 \n",
    "        for x in range(5):\n",
    "            avg_for_k = avg_for_k + tempList[x][0]\n",
    "        avg_for_k /= 5\n",
    "            \n",
    "        finalList.append(avg_for_k)\n",
    "    #printing K avg for each K  \n",
    "    num = 1\n",
    "    for x in finalList:\n",
    "        print(num,\"K: \",\"{0:.3f}\".format(x))\n",
    "        num+=1\n",
    "          \n",
    "    #line graph\n",
    "    k_range = range(1,21)\n",
    "    %matplotlib inline\n",
    "    ax=plt.axes()\n",
    "    ax.plot(k_range,finalList)\n",
    "    ax.set(title =\"KNN\",xlabel=\"K Value\",ylabel=\"Acc\")\n",
    "\n",
    "main()"
   ]
  }
 ],
 "metadata": {
  "kernelspec": {
   "display_name": "Python 3",
   "language": "python",
   "name": "python3"
  },
  "language_info": {
   "codemirror_mode": {
    "name": "ipython",
    "version": 3
   },
   "file_extension": ".py",
   "mimetype": "text/x-python",
   "name": "python",
   "nbconvert_exporter": "python",
   "pygments_lexer": "ipython3",
   "version": "3.8.2"
  }
 },
 "nbformat": 4,
 "nbformat_minor": 4
}
